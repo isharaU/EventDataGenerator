{
  "cells": [
    {
      "cell_type": "markdown",
      "metadata": {
        "colab_type": "text",
        "id": "view-in-github"
      },
      "source": [
        "<a href=\"https://colab.research.google.com/github/isharaU/EventDataGenerator/blob/main/Video_to_Event_data_Converter.ipynb\" target=\"_parent\"><img src=\"https://colab.research.google.com/assets/colab-badge.svg\" alt=\"Open In Colab\"/></a>"
      ]
    },
    {
      "cell_type": "code",
      "execution_count": 1,
      "metadata": {
        "colab": {
          "base_uri": "https://localhost:8080/"
        },
        "id": "JJw_uBh3YKK-",
        "outputId": "ac5352ee-b7a0-4400-e87e-a2ba3415190b"
      },
      "outputs": [
        {
          "name": "stderr",
          "output_type": "stream",
          "text": [
            "'nvidia-smi' is not recognized as an internal or external command,\n",
            "operable program or batch file.\n",
            "UsageError: Line magic function `%rm` not found.\n"
          ]
        }
      ],
      "source": [
        "# check if the GPU is working properly\n",
        "!nvidia-smi\n",
        "%rm -rf ./sample_data"
      ]
    },
    {
      "cell_type": "code",
      "execution_count": 2,
      "metadata": {
        "colab": {
          "base_uri": "https://localhost:8080/"
        },
        "id": "2i64M4J0yvKM",
        "outputId": "005da35d-de82-4898-bbe3-f5648e4d38cf"
      },
      "outputs": [
        {
          "name": "stdout",
          "output_type": "stream",
          "text": [
            "\u001b[2K   \u001b[90m━━━━━━━━━━━━━━━━━━━━━━━━━━━━━━━━━━━━━━━━\u001b[0m \u001b[32m43.5/43.5 kB\u001b[0m \u001b[31m680.3 kB/s\u001b[0m eta \u001b[36m0:00:00\u001b[0m\n",
            "\u001b[2K   \u001b[90m━━━━━━━━━━━━━━━━━━━━━━━━━━━━━━━━━━━━━━━━\u001b[0m \u001b[32m9.3/9.3 MB\u001b[0m \u001b[31m25.1 MB/s\u001b[0m eta \u001b[36m0:00:00\u001b[0m\n",
            "\u001b[?25h"
          ]
        }
      ],
      "source": [
        "# Installing dependencies\n",
        "%pip install numba -q\n",
        "%pip install engineering-notation -q\n",
        "%pip install opencv-contrib-python -q\n",
        "%pip install argcomplete -q\n",
        "%pip install dv-processing -q"
      ]
    },
    {
      "cell_type": "code",
      "execution_count": 3,
      "metadata": {
        "colab": {
          "base_uri": "https://localhost:8080/"
        },
        "id": "HBQcrxkczNKS",
        "outputId": "54fa4dc8-582f-455a-b313-14b3285b83c5"
      },
      "outputs": [
        {
          "name": "stdout",
          "output_type": "stream",
          "text": [
            "Cloning into 'v2e'...\n",
            "remote: Enumerating objects: 3314, done.\u001b[K\n",
            "remote: Counting objects: 100% (1086/1086), done.\u001b[K\n",
            "remote: Compressing objects: 100% (159/159), done.\u001b[K\n",
            "remote: Total 3314 (delta 982), reused 1008 (delta 927), pack-reused 2228 (from 1)\u001b[K\n",
            "Receiving objects: 100% (3314/3314), 34.34 MiB | 29.80 MiB/s, done.\n",
            "Resolving deltas: 100% (2445/2445), done.\n"
          ]
        }
      ],
      "source": [
        "# Clone SensorsINI/v2e into colab\n",
        "!git clone https://github.com/SensorsINI/v2e"
      ]
    },
    {
      "cell_type": "code",
      "execution_count": 7,
      "metadata": {
        "colab": {
          "base_uri": "https://localhost:8080/"
        },
        "id": "GdIBdsq-zQKh",
        "outputId": "d6366578-d381-44b0-ca58-1196a006285c"
      },
      "outputs": [
        {
          "name": "stdout",
          "output_type": "stream",
          "text": [
            "/content/v2e\n",
            "Processing /content/v2e\n",
            "  Preparing metadata (setup.py) ... \u001b[?25l\u001b[?25hdone\n",
            "Requirement already satisfied: argcomplete in /usr/local/lib/python3.10/dist-packages (from v2e==1.5.1) (3.5.0)\n",
            "Requirement already satisfied: engineering-notation in /usr/local/lib/python3.10/dist-packages (from v2e==1.5.1) (0.10.0)\n",
            "Requirement already satisfied: tqdm in /usr/local/lib/python3.10/dist-packages (from v2e==1.5.1) (4.66.5)\n",
            "Requirement already satisfied: opencv-python in /usr/local/lib/python3.10/dist-packages (from v2e==1.5.1) (4.10.0.84)\n",
            "Requirement already satisfied: h5py in /usr/local/lib/python3.10/dist-packages (from v2e==1.5.1) (3.11.0)\n",
            "Requirement already satisfied: torch in /usr/local/lib/python3.10/dist-packages (from v2e==1.5.1) (2.4.1+cu121)\n",
            "Requirement already satisfied: torchvision in /usr/local/lib/python3.10/dist-packages (from v2e==1.5.1) (0.19.1+cu121)\n",
            "Requirement already satisfied: numba in /usr/local/lib/python3.10/dist-packages (from v2e==1.5.1) (0.60.0)\n",
            "Requirement already satisfied: matplotlib in /usr/local/lib/python3.10/dist-packages (from v2e==1.5.1) (3.7.1)\n",
            "Requirement already satisfied: plyer in /usr/local/lib/python3.10/dist-packages (from v2e==1.5.1) (2.1.0)\n",
            "Requirement already satisfied: screeninfo in /usr/local/lib/python3.10/dist-packages (from v2e==1.5.1) (0.8.1)\n",
            "Requirement already satisfied: easygui in /usr/local/lib/python3.10/dist-packages (from v2e==1.5.1) (0.98.3)\n",
            "Requirement already satisfied: scikit-image in /usr/local/lib/python3.10/dist-packages (from v2e==1.5.1) (0.23.2)\n",
            "Requirement already satisfied: numpy>=1.24 in /usr/local/lib/python3.10/dist-packages (from v2e==1.5.1) (1.26.4)\n",
            "Requirement already satisfied: contourpy>=1.0.1 in /usr/local/lib/python3.10/dist-packages (from matplotlib->v2e==1.5.1) (1.3.0)\n",
            "Requirement already satisfied: cycler>=0.10 in /usr/local/lib/python3.10/dist-packages (from matplotlib->v2e==1.5.1) (0.12.1)\n",
            "Requirement already satisfied: fonttools>=4.22.0 in /usr/local/lib/python3.10/dist-packages (from matplotlib->v2e==1.5.1) (4.53.1)\n",
            "Requirement already satisfied: kiwisolver>=1.0.1 in /usr/local/lib/python3.10/dist-packages (from matplotlib->v2e==1.5.1) (1.4.7)\n",
            "Requirement already satisfied: packaging>=20.0 in /usr/local/lib/python3.10/dist-packages (from matplotlib->v2e==1.5.1) (24.1)\n",
            "Requirement already satisfied: pillow>=6.2.0 in /usr/local/lib/python3.10/dist-packages (from matplotlib->v2e==1.5.1) (10.4.0)\n",
            "Requirement already satisfied: pyparsing>=2.3.1 in /usr/local/lib/python3.10/dist-packages (from matplotlib->v2e==1.5.1) (3.1.4)\n",
            "Requirement already satisfied: python-dateutil>=2.7 in /usr/local/lib/python3.10/dist-packages (from matplotlib->v2e==1.5.1) (2.8.2)\n",
            "Requirement already satisfied: llvmlite<0.44,>=0.43.0dev0 in /usr/local/lib/python3.10/dist-packages (from numba->v2e==1.5.1) (0.43.0)\n",
            "Requirement already satisfied: scipy>=1.9 in /usr/local/lib/python3.10/dist-packages (from scikit-image->v2e==1.5.1) (1.13.1)\n",
            "Requirement already satisfied: networkx>=2.8 in /usr/local/lib/python3.10/dist-packages (from scikit-image->v2e==1.5.1) (3.3)\n",
            "Requirement already satisfied: imageio>=2.33 in /usr/local/lib/python3.10/dist-packages (from scikit-image->v2e==1.5.1) (2.35.1)\n",
            "Requirement already satisfied: tifffile>=2022.8.12 in /usr/local/lib/python3.10/dist-packages (from scikit-image->v2e==1.5.1) (2024.8.30)\n",
            "Requirement already satisfied: lazy-loader>=0.4 in /usr/local/lib/python3.10/dist-packages (from scikit-image->v2e==1.5.1) (0.4)\n",
            "Requirement already satisfied: filelock in /usr/local/lib/python3.10/dist-packages (from torch->v2e==1.5.1) (3.16.0)\n",
            "Requirement already satisfied: typing-extensions>=4.8.0 in /usr/local/lib/python3.10/dist-packages (from torch->v2e==1.5.1) (4.12.2)\n",
            "Requirement already satisfied: sympy in /usr/local/lib/python3.10/dist-packages (from torch->v2e==1.5.1) (1.13.2)\n",
            "Requirement already satisfied: jinja2 in /usr/local/lib/python3.10/dist-packages (from torch->v2e==1.5.1) (3.1.4)\n",
            "Requirement already satisfied: fsspec in /usr/local/lib/python3.10/dist-packages (from torch->v2e==1.5.1) (2024.6.1)\n",
            "Requirement already satisfied: six>=1.5 in /usr/local/lib/python3.10/dist-packages (from python-dateutil>=2.7->matplotlib->v2e==1.5.1) (1.16.0)\n",
            "Requirement already satisfied: MarkupSafe>=2.0 in /usr/local/lib/python3.10/dist-packages (from jinja2->torch->v2e==1.5.1) (2.1.5)\n",
            "Requirement already satisfied: mpmath<1.4,>=1.1.0 in /usr/local/lib/python3.10/dist-packages (from sympy->torch->v2e==1.5.1) (1.3.0)\n",
            "Building wheels for collected packages: v2e\n",
            "  Building wheel for v2e (setup.py) ... \u001b[?25l\u001b[?25hdone\n",
            "  Created wheel for v2e: filename=v2e-1.5.1-py3-none-any.whl size=116981 sha256=8588e638133fcefc2c6112e71ff65d306d082d06c9578454248b529a731aee74\n",
            "  Stored in directory: /tmp/pip-ephem-wheel-cache-mqy8eco1/wheels/77/5f/75/585e5c0362b6f0da630814aee1b3cce77ba29bfd5274e7fa38\n",
            "Successfully built v2e\n",
            "Installing collected packages: v2e\n",
            "  Attempting uninstall: v2e\n",
            "    Found existing installation: v2e 1.5.1\n",
            "    Uninstalling v2e-1.5.1:\n",
            "      Successfully uninstalled v2e-1.5.1\n",
            "Successfully installed v2e-1.5.1\n",
            "mkdir: cannot create directory ‘input’: File exists\n"
          ]
        }
      ],
      "source": [
        "# install v2e\n",
        "%cd /content/v2e\n",
        "%pip install ."
      ]
    },
    {
      "cell_type": "code",
      "execution_count": 8,
      "metadata": {
        "colab": {
          "base_uri": "https://localhost:8080/",
          "height": 53
        },
        "id": "DNQg50f22NMD",
        "outputId": "b3a529b2-b3d0-430f-8e3b-a54e639ae5d8"
      },
      "outputs": [
        {
          "name": "stdout",
          "output_type": "stream",
          "text": [
            "/content\n"
          ]
        },
        {
          "data": {
            "application/vnd.google.colaboratory.intrinsic+json": {
              "type": "string"
            },
            "text/plain": [
              "'/content'"
            ]
          },
          "execution_count": 8,
          "metadata": {},
          "output_type": "execute_result"
        }
      ],
      "source": [
        "# SuperSloMo39 will be saved here\n",
        "!mkdir input\n",
        "\n",
        "# go back\n",
        "%cd /content/\n",
        "%pwd"
      ]
    },
    {
      "cell_type": "code",
      "execution_count": 9,
      "metadata": {
        "colab": {
          "base_uri": "https://localhost:8080/"
        },
        "id": "o9axGbzF3MKD",
        "outputId": "351872ef-a098-4dfd-b832-8b36391113a2"
      },
      "outputs": [
        {
          "name": "stdout",
          "output_type": "stream",
          "text": [
            "--2024-09-20 14:37:36--  https://docs.google.com/uc?export=download&confirm=&id=1ETID_4xqLpRBrRo1aOT7Yphs3QqWR_fx\n",
            "Resolving docs.google.com (docs.google.com)... 173.194.194.102, 173.194.194.139, 173.194.194.101, ...\n",
            "Connecting to docs.google.com (docs.google.com)|173.194.194.102|:443... connected.\n",
            "HTTP request sent, awaiting response... 303 See Other\n",
            "Location: https://drive.usercontent.google.com/download?id=1ETID_4xqLpRBrRo1aOT7Yphs3QqWR_fx&export=download [following]\n",
            "--2024-09-20 14:37:36--  https://drive.usercontent.google.com/download?id=1ETID_4xqLpRBrRo1aOT7Yphs3QqWR_fx&export=download\n",
            "Resolving drive.usercontent.google.com (drive.usercontent.google.com)... 142.250.125.132, 2607:f8b0:4001:c2f::84\n",
            "Connecting to drive.usercontent.google.com (drive.usercontent.google.com)|142.250.125.132|:443... connected.\n",
            "HTTP request sent, awaiting response... 200 OK\n",
            "Length: 2429 (2.4K) [text/html]\n",
            "Saving to: ‘/content/v2e/input/SuperSloMo39.ckpt’\n",
            "\n",
            "\r          /content/   0%[                    ]       0  --.-KB/s               \r/content/v2e/input/ 100%[===================>]   2.37K  --.-KB/s    in 0s      \n",
            "\n",
            "2024-09-20 14:37:36 (28.7 MB/s) - ‘/content/v2e/input/SuperSloMo39.ckpt’ saved [2429/2429]\n",
            "\n"
          ]
        }
      ],
      "source": [
        "# bypass the google large file download confrimation\n",
        "!wget --load-cookies /tmp/cookies.txt \"https://docs.google.com/uc?export=download&confirm=$(wget --quiet --save-cookies /tmp/cookies.txt --keep-session-cookies --no-check-certificate 'https://docs.google.com/uc?export=download&id=1ETID_4xqLpRBrRo1aOT7Yphs3QqWR_fx' -O- | sed -rn 's/.*confirm=([0-9A-Za-z_]+).*/\\1\\n/p')&id=1ETID_4xqLpRBrRo1aOT7Yphs3QqWR_fx\" -O /content/v2e/input/SuperSloMo39.ckpt && rm -rf /tmp/cookies.txt"
      ]
    },
    {
      "cell_type": "code",
      "execution_count": 10,
      "metadata": {
        "colab": {
          "base_uri": "https://localhost:8080/"
        },
        "id": "Ctz0It643gQ9",
        "outputId": "f8211ce5-3ab1-42a0-fd98-4406f1b17721"
      },
      "outputs": [
        {
          "name": "stdout",
          "output_type": "stream",
          "text": [
            "Mounted at /content/drive\n"
          ]
        }
      ],
      "source": [
        "# mount with goole drive\n",
        "from google.colab import drive\n",
        "drive.mount('/content/drive')"
      ]
    },
    {
      "cell_type": "code",
      "execution_count": 11,
      "metadata": {
        "colab": {
          "base_uri": "https://localhost:8080/",
          "height": 35
        },
        "id": "jOahPz1R31sb",
        "outputId": "744d04be-23e0-414e-9a31-47bee3e67614"
      },
      "outputs": [
        {
          "data": {
            "application/vnd.google.colaboratory.intrinsic+json": {
              "type": "string"
            },
            "text/plain": [
              "'The chosen video file: /content/drive/MyDrive/Videos/WP_20170428_15_52_44_Pro.mp4'"
            ]
          },
          "metadata": {},
          "output_type": "display_data"
        }
      ],
      "source": [
        "#@title Paste the Video File Path Here: { run: \"auto\", vertical-output: true }\n",
        "video_path = \"/content/drive/MyDrive/Videos/WP_20170428_15_52_44_Pro.mp4\" #@param {type:\"string\"}\n",
        "\n",
        "import os\n",
        "if video_path != \"\" and os.path.isfile(video_path):\n",
        "    display(\"The chosen video file: {}\".format(video_path))\n",
        "else:\n",
        "    print(\"The file path is empty or invalid, choose a file\")\n"
      ]
    },
    {
      "cell_type": "code",
      "execution_count": 19,
      "metadata": {
        "colab": {
          "base_uri": "https://localhost:8080/",
          "height": 140
        },
        "id": "tlPeu75L5T0w",
        "outputId": "2dfc86aa-368a-435d-c0a9-4a01d1546bb5"
      },
      "outputs": [
        {
          "name": "stdout",
          "output_type": "stream",
          "text": [
            "The Final v2e command:\n"
          ]
        },
        {
          "data": {
            "application/vnd.google.colaboratory.intrinsic+json": {
              "type": "string"
            },
            "text/plain": [
              "'v2e -i /content/drive/MyDrive/Videos/WP_20170428_15_52_44_Pro.mp4 -o /content/drive/MyDrive/Videos --overwrite --unique_output_folder false --davis_output --dvs_h5 events.h5 --dvs_aedat2 None --dvs_text None --no_preview --dvs_exposure duration .033 --input_frame_rate 30 --input_slowmotion_factor 1 --disable_slomo --auto_timestamp_resolution false --pos_thres 0.2 --neg_thres 0.2 --sigma_thres 0.03 --cutoff_hz 30 --leak_rate_hz 0.1 --shot_noise_rate_hz 5 --dvs346'"
            ]
          },
          "metadata": {},
          "output_type": "display_data"
        }
      ],
      "source": [
        "#@title **Configure V2E Options** { run: \"auto\", vertical-output: true, display-mode: \"both\" }\n",
        "#@markdown The full documentation is here: https://github.com/SensorsINI/v2e#render-emulated-dvs-events-from-conventional-video\n",
        "\n",
        "#@markdown This GUI supports only common use configs, for finer control, please check the v2e documentation and edit the code below.\n",
        "\n",
        "#@markdown ---\n",
        "#@markdown ## Output Options\n",
        "\n",
        "output_folder = \"/content/drive/MyDrive/Videos\" #@param {type:\"string\"}\n",
        "#@markdown - folder to store outputs. (default: v2e-output)\n",
        "overwrite = True #@param {type:\"boolean\"}\n",
        "#@markdown - overwrites files in existing folder (checks existence of non-empty output_folder). (default: True)\n",
        "unique_output_folder = False #@param {type:\"boolean\"}\n",
        "#@markdown - makes unique output folder based on output_folder, e.g. output1 (if non-empty output_folder already exists) (default: False)\n",
        "out_filename = \"events.h5\" #@param {type:\"string\"}\n",
        "#@markdown - Output DVS events as hdf5 event database.\n",
        "davis_output = True #@param {type:\"boolean\"}\n",
        "#@markdown - If also save frames in HDF5. (default: False)\n",
        "\n",
        "#@markdown ### Output DVS Video Options\n",
        "skip_video_output = False #@param {type:\"boolean\"}\n",
        "#@markdown - Skip producing video outputs, including the original video, SloMo video, and DVS video (default: False)\n",
        "dvs_exposure = \"duration .033\" #@param {type:\"string\"}\n",
        "#@markdown - Mode to finish DVS frame event integration: duration time: Use fixed accumulation time in seconds, e.g. --dvs_exposure duration .005; count n: Count n events per frame, -dvs_exposure count 5000; area_event N M: frame ends when any area of M x M pixels fills with N events, -dvs_exposure area_count 500 64 (default: duration 0.01)\n",
        "output_mode = \"dvs346\" #@param [\"dvs128\", \"dvs240\", \"dvs346\", \"dvs640\", \"dvs1024\"]\n",
        "#@markdown - This option sets the output size of the v2e. Supported models: \"dvs128\" (128x128), \"dvs240\" (240x180), \"dvs346\" (346x260), \"dvs640\" (640x480), \"dvs1024\" (1024x768).\n",
        "\n",
        "#@markdown ---\n",
        "\n",
        "#@markdown ## Input Options\n",
        "input_frame_rate = 30 #@param {type:\"number\"}\n",
        "#@markdown - Manually define the video frame rate when the video is presented as a list of image files. When the input video is a video file, this option will be ignored.\n",
        "input_slowmotion_factor =  1#@param {type:\"number\"}\n",
        "#@markdown - Sets the known slow-motion factor of the input video, i.e. how much the video is slowed down, i.e., the ratio of shooting frame rate to playback frame rate. input_slowmotion_factor<1 for sped-up video and input_slowmotion_factor>1 for slowmotion video.If an input video is shot at 120fps yet is presented as a 30fps video (has specified playback frame rate of 30Hz, according to file's FPS setting), then set --input_slowdown_factor=4.It means that each input frame represents (1/30)/4 s=(1/120)s.If input is video with intended frame intervals of 1ms that is in AVI file with default 30 FPS playback spec, then use ((1/30)s)*(1000Hz)=33.33333. (default: 1.0)\n",
        "\n",
        "#@markdown ---\n",
        "\n",
        "#@markdown ## DVS Time Resolution Options\n",
        "disable_slomo = True #@param {type:\"boolean\"}\n",
        "#@markdown - Disables slomo interpolation; the output DVS events will have exactly the timestamp resolution of the source video (which is perhaps modified by --input_slowmotion_factor). (default: False)\n",
        "timestamp_resolution = 0.001 #@param {type:\"number\"}\n",
        "#@markdown - (Ignored by --disable_slomo.) Desired DVS timestamp resolution in seconds; determines slow motion upsampling factor; the video will be upsampled from source fps to achieve the at least this timestamp resolution.I.e. slowdown_factor = (1/fps)/timestamp_resolution; using a high resolution e.g. of 1ms will result in slow rendering since it will force high upsampling ratio. Can be combind with --auto_timestamp_resolution to limit upsampling to a maximum limit value. (default: None)\n",
        "auto_timestamp_resolution = True #@param {type:\"boolean\"}\n",
        "#@markdown - (Ignored by --disable_slomo.) If True (default), upsampling_factor is automatically determined to limit maximum movement between frames to 1 pixel. If False, --timestamp_resolution sets the upsampling factor for input video. Can be combined with --timestamp_resolution to ensure DVS events have at most some resolution. (default: False)\n",
        "\n",
        "# This is the SloMo model path\n",
        "slomo_model = \"/content/v2e/input/SuperSloMo39.ckpt\"\n",
        "\n",
        "#@markdown ---\n",
        "\n",
        "#@markdown ## DVS Model Options\n",
        "condition = \"Noisy\" #@param [\"Custom\", \"Clean\", \"Noisy\"]\n",
        "#@markdown - Custom: Use following slidebar to adjust your DVS model.\n",
        "#@markdown - Clean: a preset DVS model, generate clean events, without non-idealities.\n",
        "#@markdown - Noisy: a preset DVS model, generate noisy events.\n",
        "\n",
        "thres = 0.2 #@param {type:\"slider\", min:0.05, max:1, step:0.01}\n",
        "#@markdown - threshold in log_e intensity change to trigger a positive/negative event. (default: 0.2)\n",
        "sigma = 0.03 #@param {type:\"slider\", min:0.01, max:0.25, step:0.001}\n",
        "#@markdown - 1-std deviation threshold variation in log_e intensity change. (default: 0.03)\n",
        "cutoff_hz = 200 #@param {type:\"slider\", min:0, max:300, step:1}\n",
        "#@markdown - photoreceptor first-order IIR lowpass filter cutoff-off 3dB frequency in Hz - see https://ieeexplore.ieee.org/document/4444573 (default: 300)\n",
        "leak_rate_hz = 5.18 #@param {type:\"slider\", min:0, max:100, step:0.01}\n",
        "#@markdown - leak event rate per pixel in Hz - see https://ieeexplore.ieee.org/abstract/document/7962235 (default: 0.01)\n",
        "shot_noise_rate_hz = 2.716 #@param {type:\"slider\", min:0, max:100, step:0.001}\n",
        "#@markdown - Temporal noise rate of ON+OFF events in darkest parts of scene; reduced in brightest parts. (default: 0.001)\n",
        "\n",
        "if condition == \"Clean\":\n",
        "    thres = 0.2\n",
        "    sigma = 0.02\n",
        "    cutoff_hz = 0\n",
        "    leak_rate_hz = 0\n",
        "    shot_noise_rate_hz = 0\n",
        "elif condition == \"Noisy\":\n",
        "    thres = 0.2\n",
        "    sigma_thres = 0.05\n",
        "    cutoff_hz = 30\n",
        "    leak_rate_hz = 0.1\n",
        "    shot_noise_rate_hz = 5\n",
        "\n",
        "#@markdown ---\n",
        "\n",
        "v2e_command = [\"v2e\"]\n",
        "\n",
        "# set the input folder\n",
        "# the video_path can be a video file or a folder of images\n",
        "v2e_command += [\"-i\", video_path]\n",
        "\n",
        "# set the output folder\n",
        "v2e_command += [\"-o\", output_folder]\n",
        "\n",
        "# if the output will rewrite the previous output\n",
        "if overwrite:\n",
        "    v2e_command.append(\"--overwrite\")\n",
        "\n",
        "# if there the output folder is unique\n",
        "v2e_command += [\"--unique_output_folder\", \"{}\".format(unique_output_folder).lower()]\n",
        "\n",
        "# set output configs, for the sake of this tutorial, let's just output HDF5 record\n",
        "if davis_output:\n",
        "    v2e_command += [\"--davis_output\"]\n",
        "v2e_command += [\"--dvs_h5\", out_filename]\n",
        "v2e_command += [\"--dvs_aedat2\", \"None\"]\n",
        "v2e_command += [\"--dvs_text\", \"None\"]\n",
        "\n",
        "# in Colab, let's say no preview\n",
        "v2e_command += [\"--no_preview\"]\n",
        "\n",
        "# if skip video output\n",
        "if skip_video_output:\n",
        "    v2e_command += [\"--skip_video_output\"]\n",
        "else:\n",
        "    # set DVS video rendering params\n",
        "    v2e_command += [\"--dvs_exposure\", dvs_exposure]\n",
        "\n",
        "# set slomo related options\n",
        "v2e_command += [\"--input_frame_rate\", \"{}\".format(input_frame_rate)]\n",
        "v2e_command += [\"--input_slowmotion_factor\", \"{}\".format(input_slowmotion_factor)]\n",
        "\n",
        "# set slomo data\n",
        "if disable_slomo:\n",
        "    v2e_command += [\"--disable_slomo\"]\n",
        "    v2e_command += [\"--auto_timestamp_resolution\", \"false\"]\n",
        "else:\n",
        "    v2e_command += [\"--slomo_model\", slomo_model]\n",
        "    if auto_timestamp_resolution:\n",
        "        v2e_command += [\"--auto_timestamp_resolution\", \"{}\".format(auto_timestamp_resolution).lower()]\n",
        "    else:\n",
        "        v2e_command += [\"--timestamp_resolution\", \"{}\".format(timestamp_resolution)]\n",
        "\n",
        "# threshold\n",
        "v2e_command += [\"--pos_thres\", \"{}\".format(thres)]\n",
        "v2e_command += [\"--neg_thres\", \"{}\".format(thres)]\n",
        "\n",
        "# sigma\n",
        "v2e_command += [\"--sigma_thres\", \"{}\".format(sigma)]\n",
        "\n",
        "# DVS non-idealities\n",
        "v2e_command += [\"--cutoff_hz\", \"{}\".format(cutoff_hz)]\n",
        "v2e_command += [\"--leak_rate_hz\", \"{}\".format(leak_rate_hz)]\n",
        "v2e_command += [\"--shot_noise_rate_hz\", \"{}\".format(shot_noise_rate_hz)]\n",
        "\n",
        "# append output mode\n",
        "v2e_command += [f\"--{output_mode}\"]\n",
        "\n",
        "# Final v2e command\n",
        "\n",
        "final_v2e_command = \" \".join(v2e_command)\n",
        "\n",
        "print(\"The Final v2e command:\")\n",
        "display(final_v2e_command)\n"
      ]
    },
    {
      "cell_type": "code",
      "execution_count": 20,
      "metadata": {
        "colab": {
          "base_uri": "https://localhost:8080/"
        },
        "id": "-Fa_8j595aQJ",
        "outputId": "c159b22f-0c77-4c99-cee4-a01f124801aa"
      },
      "outputs": [
        {
          "name": "stdout",
          "output_type": "stream",
          "text": [
            "\u001b[1;34mINFO\u001b[1;0m:v2e:torch device is cpu\n",
            "\u001b[1;31mWARNING\u001b[1;0m:v2e:CUDA GPU acceleration of pytorch operations is not available; see https://pytorch.org/get-started/locally/ to generate the correct conda install command to enable GPU-accelerated CUDA.\n",
            "\u001b[1;34mINFO\u001b[1;0m:v2e:No module named 'gooey': Gooey GUI builder not available, will use command line arguments.\n",
            "Install with 'pip install Gooey if you want a no-arg GUI to invoke v2e'. See README\n",
            "\u001b[1;34mINFO\u001b[1;0m:v2e:name 'Gooey' is not defined: Gooey package GUI not available, using command line arguments. \n",
            "You can try to install with \"pip install Gooey\"\n",
            "\u001b[1;34mINFO\u001b[1;0m:v2ecore.v2e_utils:using output folder /content/drive/MyDrive/Videos\n",
            "\u001b[1;34mINFO\u001b[1;0m:v2e:output_in_place==False so made output_folder=/content/drive/MyDrive/Videos\n",
            "\u001b[1;34mINFO\u001b[1;0m:v2ecore.v2e_args:\n",
            "*** arguments:\n",
            "auto_timestamp_resolution:\tFalse\n",
            "avi_frame_rate:\t30\n",
            "batch_size:\t8\n",
            "crop:\tNone\n",
            "cs_lambda_pixels:\tNone\n",
            "cs_tau_p_ms:\tNone\n",
            "cutoff_hz:\t30.0\n",
            "ddd_output:\tFalse\n",
            "disable_slomo:\tTrue\n",
            "dvs1024:\tFalse\n",
            "dvs128:\tFalse\n",
            "dvs240:\tFalse\n",
            "dvs346:\tTrue\n",
            "dvs640:\tFalse\n",
            "dvs_aedat2:\tNone\n",
            "dvs_aedat4:\tNone\n",
            "dvs_emulator_seed:\t0\n",
            "dvs_exposure:\t['duration', '.033']\n",
            "dvs_h5:\tevents.h5\n",
            "dvs_params:\tNone\n",
            "dvs_text:\tNone\n",
            "dvs_vid:\tdvs-video.avi\n",
            "dvs_vid_full_scale:\t2\n",
            "hdr:\tFalse\n",
            "input:\t/content/drive/MyDrive/Videos/WP_20170428_15_52_44_Pro.mp4\n",
            "input_frame_rate:\t30.0\n",
            "input_slowmotion_factor:\t1.0\n",
            "label_signal_noise:\tFalse\n",
            "leak_jitter_fraction:\t0.1\n",
            "leak_rate_hz:\t0.1\n",
            "neg_thres:\t0.2\n",
            "no_preview:\tTrue\n",
            "noise_rate_cov_decades:\t0.1\n",
            "output_folder:\t/content/drive/MyDrive/Videos\n",
            "output_height:\tNone\n",
            "output_in_place:\tFalse\n",
            "output_width:\tNone\n",
            "overwrite:\tTrue\n",
            "photoreceptor_noise:\tFalse\n",
            "pos_thres:\t0.2\n",
            "record_single_pixel_states:\tNone\n",
            "refractory_period:\t0.0005\n",
            "save_dvs_model_state:\tFalse\n",
            "scidvs:\tFalse\n",
            "shot_noise_rate_hz:\t5.0\n",
            "show_dvs_model_state:\tNone\n",
            "sigma_thres:\t0.03\n",
            "skip_video_output:\tFalse\n",
            "slomo_model:\t/usr/local/lib/python3.10/dist-packages/input/SuperSloMo39.ckpt\n",
            "slomo_stats_plot:\tFalse\n",
            "start_time:\tNone\n",
            "stop_time:\tNone\n",
            "synthetic_input:\tNone\n",
            "timestamp_resolution:\tNone\n",
            "unique_output_folder:\tFalse\n",
            "vid_orig:\tvideo_orig.avi\n",
            "vid_slomo:\tvideo_slomo.avi\n",
            "\n",
            "\u001b[1;31mWARNING\u001b[1;0m:v2ecore.v2e_args:\n",
            "**** extra other arguments (please check if you are misspelling intended arguments):\n",
            "--davis_output\n",
            "\n",
            "\u001b[1;34mINFO\u001b[1;0m:v2ecore.v2e_args:DVS frame expsosure mode ExposureMode.DURATION: frame rate 30.3030303030303\n",
            "\u001b[1;34mINFO\u001b[1;0m:v2e:opening video input file /content/drive/MyDrive/Videos/WP_20170428_15_52_44_Pro.mp4\n",
            "\u001b[1;34mINFO\u001b[1;0m:v2e:Input video frame rate 30.044570250909405Hz is overridden by command line argument --input_frame_rate=30.0\n",
            "\u001b[1;31mWARNING\u001b[1;0m:v2e:slomo interpolation disabled by command line option; output DVS timestamps will have source frame interval resolution\n",
            "\u001b[1;34mINFO\u001b[1;0m:v2e:\n",
            " events will have timestamp resolution 33.33ms,\n",
            "\u001b[1;31mWARNING\u001b[1;0m:v2e:DVS video frame rate=30.3030303030303Hz is larger than the effective DVS frame rate of 30.0Hz; DVS video will have blank frames\n",
            "\u001b[1;34mINFO\u001b[1;0m:v2e:Source video /content/drive/MyDrive/Videos/WP_20170428_15_52_44_Pro.mp4 has total 242 frames with total duration 8.03s. \n",
            "Source video is 30fps with slowmotion_factor 1 (frame interval 33.33ms),\n",
            "Will convert 242 frames 0 to 241\n",
            "(From 0.0s to 8.033333333333333s, duration 8.033333333333333s)\n",
            "\u001b[1;34mINFO\u001b[1;0m:v2e:v2e DVS video will have constant-duration frames \n",
            "at 30.30fps (accumulation time 33ms), \n",
            "DVS video will have 243 frames with duration 8.02s and playback duration 8.10s\n",
            "\n",
            "\u001b[1;34mINFO\u001b[1;0m:v2ecore.emulator:ON/OFF log_e temporal contrast thresholds: 0.2 / 0.2 +/- 0.03\n",
            "\u001b[1;34mINFO\u001b[1;0m:v2ecore.emulator:opening event output dataset file /content/drive/MyDrive/Videos/events.h5\n",
            "\u001b[1;31mWARNING\u001b[1;0m:v2ecore.emulator:cannot get screen size for window placement: No enumerators available\n",
            "\u001b[1;34mINFO\u001b[1;0m:v2e:processing frames 0 to 241 from video input\n",
            "\u001b[1;34mINFO\u001b[1;0m:v2e:Input video /content/drive/MyDrive/Videos/WP_20170428_15_52_44_Pro.mp4 has W=800 x H=448 frames each with 3 channels\n",
            "\u001b[1;34mINFO\u001b[1;0m:v2e:*** Stage 1/3: Resizing 242 input frames to output size (with possible RGB to luma conversion)\n",
            "rgb2luma:   0% 0/242 [00:00<?, ?fr/s]\u001b[1;34mINFO\u001b[1;0m:v2e:\n",
            "Converting input frames from RGB color to luma\n",
            "rgb2luma: 100% 242/242 [00:01<00:00, 164.65fr/s]\n",
            "\u001b[1;34mINFO\u001b[1;0m:v2e:*** Stage 2/3:turning npy frame files to png from /tmp/tmpi7wasyxc\n",
            "npy2png: 242fr [00:00, 290.10fr/s]\n",
            "\u001b[1;34mINFO\u001b[1;0m:v2e:*** Stage 3/3: emulating DVS events from 242 frames\n",
            "dvs:   0% 0/242 [00:00<?, ?fr/s]\u001b[1;31mWARNING\u001b[1;0m:v2ecore.emulator_utils:IIR lowpass filter update has large maximum update eps=6.28 from delta_time/tau=0.0333/0.00531\n",
            "dvs:   1% 2/242 [00:00<01:01,  3.92fr/s]\u001b[1;31mWARNING\u001b[1;0m:v2ecore.emulator_utils:IIR lowpass filter update has large maximum update eps=6.28 from delta_time/tau=0.0333/0.00531\n",
            "dvs:   1% 3/242 [00:00<01:16,  3.11fr/s]\u001b[1;31mWARNING\u001b[1;0m:v2ecore.emulator_utils:IIR lowpass filter update has large maximum update eps=6.28 from delta_time/tau=0.0333/0.00531\n",
            "dvs:   2% 4/242 [00:01<01:28,  2.69fr/s]\u001b[1;31mWARNING\u001b[1;0m:v2ecore.emulator_utils:IIR lowpass filter update has large maximum update eps=6.28 from delta_time/tau=0.0333/0.00531\n",
            "dvs:   2% 5/242 [00:01<01:32,  2.57fr/s]\u001b[1;31mWARNING\u001b[1;0m:v2ecore.emulator_utils:IIR lowpass filter update has large maximum update eps=6.28 from delta_time/tau=0.0333/0.00531\n",
            "dvs:   2% 6/242 [00:02<01:37,  2.43fr/s]\u001b[1;31mWARNING\u001b[1;0m:v2ecore.emulator_utils:IIR lowpass filter update has large maximum update eps=6.28 from delta_time/tau=0.0333/0.00531\n",
            "dvs:   3% 7/242 [00:02<01:45,  2.23fr/s]\u001b[1;31mWARNING\u001b[1;0m:v2ecore.emulator_utils:IIR lowpass filter update has large maximum update eps=6.28 from delta_time/tau=0.0333/0.00531\n",
            "dvs:   3% 8/242 [00:03<01:46,  2.19fr/s]\u001b[1;31mWARNING\u001b[1;0m:v2ecore.emulator_utils:IIR lowpass filter update has large maximum update eps=6.28 from delta_time/tau=0.0333/0.00531\n",
            "dvs:   4% 9/242 [00:03<01:45,  2.22fr/s]\u001b[1;34mINFO\u001b[1;0m:v2ecore.renderer:opening DVS video output file /content/drive/MyDrive/Videos/dvs-video.avi\n",
            "\u001b[1;34mINFO\u001b[1;0m:v2ecore.v2e_utils:opened /content/drive/MyDrive/Videos/dvs-video.avi with XVID https://www.fourcc.org/ codec, 30fps, and (346x260) size\n",
            "\u001b[1;34mINFO\u001b[1;0m:v2ecore.renderer:opening DVS frame times file /content/drive/MyDrive/Videos/dvs-video-frame_times.txt\n",
            "\u001b[1;31mWARNING\u001b[1;0m:v2ecore.emulator_utils:IIR lowpass filter update has large maximum update eps=6.28 from delta_time/tau=0.0333/0.00531\n",
            "dvs:   4% 10/242 [00:06<04:15,  1.10s/fr]\u001b[1;31mWARNING\u001b[1;0m:v2ecore.emulator_utils:IIR lowpass filter update has large maximum update eps=6.28 from delta_time/tau=0.0333/0.00531\n",
            "\u001b[1;31mWARNING\u001b[1;0m:v2ecore.emulator_utils:Supressing further warnings about inaccurate IIR lowpass filtering; check timestamp resolution and DVS photoreceptor cutoff frequency\n",
            "dvs: 100% 242/242 [01:15<00:00,  3.22fr/s]\n",
            "\u001b[1;34mINFO\u001b[1;0m:v2ecore.renderer:Closing DVS video output file dvs-video.avi after writing 243 frames\n",
            "\u001b[1;34mINFO\u001b[1;0m:v2e:generated total 39.78M events (19.93M on, 19.85M off)\n",
            "\u001b[1;34mINFO\u001b[1;0m:v2e:Avg event rate for N=89960 px and total time =8.033 s\n",
            "\tTotal: 4.95MHz (2.48MHz on, 2.47MHz off)\n",
            "\tPer pixel:  55.04Hz (27.58Hz on, 27.47Hz off)\n",
            "\u001b[1;34mINFO\u001b[1;0m:v2e:generating desktop notification\n",
            "\u001b[1;34mINFO\u001b[1;0m:v2e:could not show notification: org.freedesktop.DBus.Error.NotSupported: Unable to autolaunch a dbus-daemon without a $DISPLAY for X11\n",
            "\u001b[1;34mINFO\u001b[1;0m:v2e:showing /content/drive/MyDrive/Videos in desktop\n",
            "/bin/sh: 1: xprop: not found\n",
            "\u001b[1;31mWARNING\u001b[1;0m:v2e:Desktop 'None' not supported (neither DESKTOP_LAUNCH nor os.startfile could be used): could not open /content/drive/MyDrive/Videos in desktop\n",
            "\u001b[1;34mINFO\u001b[1;0m:v2e:done processing 484 frames in 77.71s (6.23fr/s)\n",
            " **************** see output folder /content/drive/MyDrive/Videos\n",
            "\u001b[1;34mINFO\u001b[1;0m:v2ecore.renderer:Closing DVS video output file dvs-video.avi after writing 243 frames\n"
          ]
        }
      ],
      "source": [
        "# Run command!\n",
        "!$final_v2e_command"
      ]
    },
    {
      "cell_type": "code",
      "execution_count": 23,
      "metadata": {
        "colab": {
          "base_uri": "https://localhost:8080/",
          "height": 90
        },
        "id": "jMomsg7d6Vl2",
        "outputId": "de624925-ecd7-4972-fe49-9721251d1876"
      },
      "outputs": [
        {
          "data": {
            "application/vnd.google.colaboratory.intrinsic+json": {
              "type": "string"
            },
            "text/plain": [
              "'File Size (MB): 174.64'"
            ]
          },
          "metadata": {},
          "output_type": "display_data"
        },
        {
          "data": {
            "application/vnd.google.colaboratory.intrinsic+json": {
              "type": "string"
            },
            "text/plain": [
              "'Number of Events: 39779174'"
            ]
          },
          "metadata": {},
          "output_type": "display_data"
        },
        {
          "data": {
            "application/vnd.google.colaboratory.intrinsic+json": {
              "type": "string"
            },
            "text/plain": [
              "'Recording Duration: 8.03s'"
            ]
          },
          "metadata": {},
          "output_type": "display_data"
        },
        {
          "data": {
            "application/vnd.google.colaboratory.intrinsic+json": {
              "type": "string"
            },
            "text/plain": [
              "'Event Rate: 4952.18 KEVs/s'"
            ]
          },
          "metadata": {},
          "output_type": "display_data"
        }
      ],
      "source": [
        "# Output file path\n",
        "import os\n",
        "import h5py\n",
        "out_filepath = os.path.join(output_folder, out_filename)\n",
        "out_dataset = h5py.File(out_filepath, \"r\")\n",
        "\n",
        "file_stats = os.stat(out_filepath)\n",
        "\n",
        "# Summarize file\n",
        "\n",
        "events = out_dataset[\"events\"]\n",
        "\n",
        "num_events = events.shape[0]\n",
        "duration = (events[-1, 0]-events[0, 0])/1e6  # in seconds\n",
        "event_rate = num_events/duration/1000\n",
        "\n",
        "display(\"File Size (MB): {:.2f}\".format(file_stats.st_size / (1024*1024)))\n",
        "display(\"Number of Events: {}\".format(events.shape[0]))\n",
        "display(\"Recording Duration: {:.2f}s\".format(duration))\n",
        "display(\"Event Rate: {:.2f} KEVs/s\".format(event_rate))"
      ]
    },
    {
      "cell_type": "code",
      "execution_count": 24,
      "metadata": {
        "id": "skBYeWQr6Y35"
      },
      "outputs": [],
      "source": [
        "# DVS Video\n",
        "dvs_vid_path = os.path.join(output_folder, \"dvs-video.avi\")\n",
        "!ffmpeg -y -i $dvs_vid_path /tmp/output.mp4 -loglevel quiet\n",
        "\n",
        "from IPython.display import HTML\n",
        "from base64 import b64encode\n",
        "mp4 = open(\"/tmp/output.mp4\",'rb').read()\n",
        "data_url = \"data:video/mp4;base64,\" + b64encode(mp4).decode()\n",
        "HTML(\"<video controls src={} width=50%/>\".format(data_url))"
      ]
    }
  ],
  "metadata": {
    "accelerator": "GPU",
    "colab": {
      "authorship_tag": "ABX9TyNEFz5NhhFkLM5pj5FEsr/i",
      "gpuType": "T4",
      "include_colab_link": true,
      "provenance": []
    },
    "kernelspec": {
      "display_name": "Python 3",
      "name": "python3"
    },
    "language_info": {
      "codemirror_mode": {
        "name": "ipython",
        "version": 3
      },
      "file_extension": ".py",
      "mimetype": "text/x-python",
      "name": "python",
      "nbconvert_exporter": "python",
      "pygments_lexer": "ipython3",
      "version": "3.12.4"
    }
  },
  "nbformat": 4,
  "nbformat_minor": 0
}
