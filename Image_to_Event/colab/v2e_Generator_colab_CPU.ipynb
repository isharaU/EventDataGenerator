{
  "cells": [
    {
      "cell_type": "code",
      "execution_count": 9,
      "metadata": {
        "id": "2i64M4J0yvKM"
      },
      "outputs": [],
      "source": [
        "# Installing dependencies\n",
        "%pip install numba -q\n",
        "%pip install engineering-notation -q\n",
        "%pip install opencv-contrib-python -q\n",
        "%pip install argcomplete -q\n",
        "%pip install dv-processing -q"
      ]
    },
    {
      "cell_type": "code",
      "execution_count": 10,
      "metadata": {
        "colab": {
          "base_uri": "https://localhost:8080/"
        },
        "id": "HBQcrxkczNKS",
        "outputId": "dff8c508-a5da-4314-ce37-a54f16e3b506"
      },
      "outputs": [
        {
          "output_type": "stream",
          "name": "stdout",
          "text": [
            "fatal: destination path 'v2e' already exists and is not an empty directory.\n"
          ]
        }
      ],
      "source": [
        "# Clone SensorsINI/v2e into colab\n",
        "!git clone https://github.com/SensorsINI/v2e"
      ]
    },
    {
      "cell_type": "code",
      "execution_count": 11,
      "metadata": {
        "colab": {
          "base_uri": "https://localhost:8080/"
        },
        "id": "GdIBdsq-zQKh",
        "outputId": "c57c0b83-c98b-450a-9cd8-a88d142cf6e4"
      },
      "outputs": [
        {
          "output_type": "stream",
          "name": "stdout",
          "text": [
            "/content/v2e\n",
            "Processing /content/v2e\n",
            "  Preparing metadata (setup.py) ... \u001b[?25l\u001b[?25hdone\n",
            "Requirement already satisfied: argcomplete in /usr/local/lib/python3.10/dist-packages (from v2e==1.5.1) (3.5.1)\n",
            "Requirement already satisfied: engineering-notation in /usr/local/lib/python3.10/dist-packages (from v2e==1.5.1) (0.10.0)\n",
            "Requirement already satisfied: tqdm in /usr/local/lib/python3.10/dist-packages (from v2e==1.5.1) (4.66.5)\n",
            "Requirement already satisfied: opencv-python in /usr/local/lib/python3.10/dist-packages (from v2e==1.5.1) (4.10.0.84)\n",
            "Requirement already satisfied: h5py in /usr/local/lib/python3.10/dist-packages (from v2e==1.5.1) (3.11.0)\n",
            "Requirement already satisfied: torch in /usr/local/lib/python3.10/dist-packages (from v2e==1.5.1) (2.4.1+cu121)\n",
            "Requirement already satisfied: torchvision in /usr/local/lib/python3.10/dist-packages (from v2e==1.5.1) (0.19.1+cu121)\n",
            "Requirement already satisfied: numba in /usr/local/lib/python3.10/dist-packages (from v2e==1.5.1) (0.60.0)\n",
            "Requirement already satisfied: matplotlib in /usr/local/lib/python3.10/dist-packages (from v2e==1.5.1) (3.7.1)\n",
            "Requirement already satisfied: plyer in /usr/local/lib/python3.10/dist-packages (from v2e==1.5.1) (2.1.0)\n",
            "Requirement already satisfied: screeninfo in /usr/local/lib/python3.10/dist-packages (from v2e==1.5.1) (0.8.1)\n",
            "Requirement already satisfied: easygui in /usr/local/lib/python3.10/dist-packages (from v2e==1.5.1) (0.98.3)\n",
            "Requirement already satisfied: scikit-image in /usr/local/lib/python3.10/dist-packages (from v2e==1.5.1) (0.24.0)\n",
            "Requirement already satisfied: numpy>=1.24 in /usr/local/lib/python3.10/dist-packages (from v2e==1.5.1) (1.26.4)\n",
            "Requirement already satisfied: contourpy>=1.0.1 in /usr/local/lib/python3.10/dist-packages (from matplotlib->v2e==1.5.1) (1.3.0)\n",
            "Requirement already satisfied: cycler>=0.10 in /usr/local/lib/python3.10/dist-packages (from matplotlib->v2e==1.5.1) (0.12.1)\n",
            "Requirement already satisfied: fonttools>=4.22.0 in /usr/local/lib/python3.10/dist-packages (from matplotlib->v2e==1.5.1) (4.54.1)\n",
            "Requirement already satisfied: kiwisolver>=1.0.1 in /usr/local/lib/python3.10/dist-packages (from matplotlib->v2e==1.5.1) (1.4.7)\n",
            "Requirement already satisfied: packaging>=20.0 in /usr/local/lib/python3.10/dist-packages (from matplotlib->v2e==1.5.1) (24.1)\n",
            "Requirement already satisfied: pillow>=6.2.0 in /usr/local/lib/python3.10/dist-packages (from matplotlib->v2e==1.5.1) (10.4.0)\n",
            "Requirement already satisfied: pyparsing>=2.3.1 in /usr/local/lib/python3.10/dist-packages (from matplotlib->v2e==1.5.1) (3.1.4)\n",
            "Requirement already satisfied: python-dateutil>=2.7 in /usr/local/lib/python3.10/dist-packages (from matplotlib->v2e==1.5.1) (2.8.2)\n",
            "Requirement already satisfied: llvmlite<0.44,>=0.43.0dev0 in /usr/local/lib/python3.10/dist-packages (from numba->v2e==1.5.1) (0.43.0)\n",
            "Requirement already satisfied: scipy>=1.9 in /usr/local/lib/python3.10/dist-packages (from scikit-image->v2e==1.5.1) (1.13.1)\n",
            "Requirement already satisfied: networkx>=2.8 in /usr/local/lib/python3.10/dist-packages (from scikit-image->v2e==1.5.1) (3.4)\n",
            "Requirement already satisfied: imageio>=2.33 in /usr/local/lib/python3.10/dist-packages (from scikit-image->v2e==1.5.1) (2.35.1)\n",
            "Requirement already satisfied: tifffile>=2022.8.12 in /usr/local/lib/python3.10/dist-packages (from scikit-image->v2e==1.5.1) (2024.9.20)\n",
            "Requirement already satisfied: lazy-loader>=0.4 in /usr/local/lib/python3.10/dist-packages (from scikit-image->v2e==1.5.1) (0.4)\n",
            "Requirement already satisfied: filelock in /usr/local/lib/python3.10/dist-packages (from torch->v2e==1.5.1) (3.16.1)\n",
            "Requirement already satisfied: typing-extensions>=4.8.0 in /usr/local/lib/python3.10/dist-packages (from torch->v2e==1.5.1) (4.12.2)\n",
            "Requirement already satisfied: sympy in /usr/local/lib/python3.10/dist-packages (from torch->v2e==1.5.1) (1.13.3)\n",
            "Requirement already satisfied: jinja2 in /usr/local/lib/python3.10/dist-packages (from torch->v2e==1.5.1) (3.1.4)\n",
            "Requirement already satisfied: fsspec in /usr/local/lib/python3.10/dist-packages (from torch->v2e==1.5.1) (2024.6.1)\n",
            "Requirement already satisfied: six>=1.5 in /usr/local/lib/python3.10/dist-packages (from python-dateutil>=2.7->matplotlib->v2e==1.5.1) (1.16.0)\n",
            "Requirement already satisfied: MarkupSafe>=2.0 in /usr/local/lib/python3.10/dist-packages (from jinja2->torch->v2e==1.5.1) (3.0.1)\n",
            "Requirement already satisfied: mpmath<1.4,>=1.1.0 in /usr/local/lib/python3.10/dist-packages (from sympy->torch->v2e==1.5.1) (1.3.0)\n",
            "Building wheels for collected packages: v2e\n",
            "  Building wheel for v2e (setup.py) ... \u001b[?25l\u001b[?25hdone\n",
            "  Created wheel for v2e: filename=v2e-1.5.1-py3-none-any.whl size=116981 sha256=5892acb3ab6a969a110a56e486f0eecbb75579373185a9b01aaf544af9dc1c09\n",
            "  Stored in directory: /tmp/pip-ephem-wheel-cache-v7wyw4pt/wheels/77/5f/75/585e5c0362b6f0da630814aee1b3cce77ba29bfd5274e7fa38\n",
            "Successfully built v2e\n",
            "Installing collected packages: v2e\n",
            "  Attempting uninstall: v2e\n",
            "    Found existing installation: v2e 1.5.1\n",
            "    Uninstalling v2e-1.5.1:\n",
            "      Successfully uninstalled v2e-1.5.1\n",
            "Successfully installed v2e-1.5.1\n"
          ]
        }
      ],
      "source": [
        "# install v2e\n",
        "%cd /content/v2e\n",
        "%pip install ."
      ]
    },
    {
      "cell_type": "code",
      "execution_count": 13,
      "metadata": {
        "colab": {
          "base_uri": "https://localhost:8080/"
        },
        "id": "Ctz0It643gQ9",
        "outputId": "5ab87b95-3829-4514-b110-000c7297f8d0"
      },
      "outputs": [
        {
          "output_type": "stream",
          "name": "stdout",
          "text": [
            "Drive already mounted at /content/drive; to attempt to forcibly remount, call drive.mount(\"/content/drive\", force_remount=True).\n"
          ]
        }
      ],
      "source": [
        "# mount with goole drive\n",
        "from google.colab import drive\n",
        "drive.mount('/content/drive')"
      ]
    },
    {
      "cell_type": "code",
      "execution_count": 20,
      "metadata": {
        "colab": {
          "base_uri": "https://localhost:8080/"
        },
        "id": "tlPeu75L5T0w",
        "outputId": "21f05972-22ff-4e4e-dc81-ac0940f0d143"
      },
      "outputs": [
        {
          "output_type": "stream",
          "name": "stdout",
          "text": [
            "Start Process: 310\n",
            "\n",
            "Start Process: 381\n",
            "\n",
            "Start Process: 681\n",
            "\n",
            "Start Process: 718\n",
            "\n",
            "Start Process: 759\n",
            "\n",
            "Start Process: 860\n",
            "\n",
            "Processed: 860\n",
            "\n",
            "Start Process: 890\n",
            "\n",
            "Processed: 681\n",
            "\n",
            "Start Process: 912\n",
            "\n",
            "Processed: 718\n",
            "\n",
            "Start Process: 1157\n",
            "\n",
            "Processed: 759\n",
            "\n",
            "Start Process: 1380\n",
            "\n",
            "Processed: 310\n",
            "\n",
            "Processed: 381\n",
            "\n",
            "Processed: 890\n",
            "\n",
            "Processed: 1380\n",
            "\n",
            "Processed: 912\n",
            "\n",
            "Processed: 1157\n",
            "\n"
          ]
        }
      ],
      "source": [
        "import concurrent.futures\n",
        "import subprocess\n",
        "\n",
        "names_file_path = \"/content/thumbs_up2.txt\"\n",
        "input_dir = \"/content/drive/MyDrive/V2E/310-3356\"\n",
        "output_dir = \"/content/drive/MyDrive/V2E/output/\"\n",
        "\n",
        "def process_video(name):\n",
        "    name = name.strip()\n",
        "    path = input_dir + \"/\" + name\n",
        "    output_folder = output_dir + \"/\" + name\n",
        "\n",
        "    overwrite = True\n",
        "    unique_output_folder = True\n",
        "    out_filename = \"events.h5\"\n",
        "    davis_output = True\n",
        "\n",
        "    skip_video_output = True\n",
        "    dvs_exposure = \"duration .033\"\n",
        "    output_mode = \"dvs128\"\n",
        "\n",
        "    input_frame_rate = 12\n",
        "    input_slowmotion_factor = 1\n",
        "\n",
        "    disable_slomo = True\n",
        "    timestamp_resolution = 0.001\n",
        "    auto_timestamp_resolution = True\n",
        "\n",
        "    condition = \"Clean\"\n",
        "\n",
        "    thres = 0.2\n",
        "    sigma = 0.03\n",
        "    cutoff_hz = 200\n",
        "    leak_rate_hz = 5.18\n",
        "    shot_noise_rate_hz = 2.716\n",
        "\n",
        "    if condition == \"Clean\":\n",
        "        thres = 0.2\n",
        "        sigma = 0.02\n",
        "        cutoff_hz = 0\n",
        "        leak_rate_hz = 0\n",
        "        shot_noise_rate_hz = 0\n",
        "\n",
        "    elif condition == \"Noisy\":\n",
        "        thres = 0.2\n",
        "        sigma_thres = 0.05\n",
        "        cutoff_hz = 30\n",
        "        leak_rate_hz = 0.1\n",
        "        shot_noise_rate_hz = 5\n",
        "\n",
        "    v2e_command = [\"v2e\"]\n",
        "    v2e_command += [\"-i\", path]\n",
        "    v2e_command += [\"-o\", output_folder]\n",
        "\n",
        "    if overwrite:\n",
        "        v2e_command.append(\"--overwrite\")\n",
        "\n",
        "    v2e_command += [\"--unique_output_folder\", \"{}\".format(unique_output_folder).lower()]\n",
        "\n",
        "    if davis_output:\n",
        "        v2e_command += [\"--davis_output\"]\n",
        "    v2e_command += [\"--dvs_h5\", out_filename]\n",
        "    v2e_command += [\"--dvs_aedat2\", \"None\"]\n",
        "    v2e_command += [\"--dvs_text\", \"None\"]\n",
        "\n",
        "    v2e_command += [\"--no_preview\"]\n",
        "\n",
        "    if skip_video_output:\n",
        "        v2e_command += [\"--skip_video_output\"]\n",
        "    else:\n",
        "        v2e_command += [\"--dvs_exposure\", dvs_exposure]\n",
        "\n",
        "    v2e_command += [\"--input_frame_rate\", \"{}\".format(input_frame_rate)]\n",
        "    v2e_command += [\"--input_slowmotion_factor\", \"{}\".format(input_slowmotion_factor)]\n",
        "\n",
        "    v2e_command += [\"--disable_slomo\"]\n",
        "    v2e_command += [\"--auto_timestamp_resolution\", \"false\"]\n",
        "\n",
        "    v2e_command += [\"--pos_thres\", \"{}\".format(thres)]\n",
        "    v2e_command += [\"--neg_thres\", \"{}\".format(thres)]\n",
        "    v2e_command += [\"--sigma_thres\", \"{}\".format(sigma)]\n",
        "    v2e_command += [\"--cutoff_hz\", \"{}\".format(cutoff_hz)]\n",
        "    v2e_command += [\"--leak_rate_hz\", \"{}\".format(leak_rate_hz)]\n",
        "    v2e_command += [\"--shot_noise_rate_hz\", \"{}\".format(shot_noise_rate_hz)]\n",
        "    v2e_command += [f\"--{output_mode}\"]\n",
        "\n",
        "    # Run the command\n",
        "    final_v2e_command = \" \".join(v2e_command)\n",
        "    print(\"Start Process: \" + name + \"\\n\")\n",
        "    subprocess.run(final_v2e_command, shell=True)\n",
        "    print(\"Processed: \" + name + \"\\n\")\n",
        "\n",
        "# Reading names from the file\n",
        "with open(names_file_path, \"r\") as file:\n",
        "    names = file.readlines()\n",
        "\n",
        "# Parallelize the processing with ThreadPoolExecutor\n",
        "with concurrent.futures.ThreadPoolExecutor() as executor:\n",
        "    executor.map(process_video, names)\n"
      ]
    }
  ],
  "metadata": {
    "colab": {
      "provenance": []
    },
    "kernelspec": {
      "display_name": "Python 3",
      "name": "python3"
    },
    "language_info": {
      "codemirror_mode": {
        "name": "ipython",
        "version": 3
      },
      "file_extension": ".py",
      "mimetype": "text/x-python",
      "name": "python",
      "nbconvert_exporter": "python",
      "pygments_lexer": "ipython3",
      "version": "3.12.4"
    }
  },
  "nbformat": 4,
  "nbformat_minor": 0
}