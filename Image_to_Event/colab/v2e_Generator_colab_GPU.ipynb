{
  "cells": [
    {
      "cell_type": "code",
      "execution_count": null,
      "metadata": {
        "colab": {
          "base_uri": "https://localhost:8080/"
        },
        "id": "JJw_uBh3YKK-",
        "outputId": "78f298dc-6aba-4e3a-dd5e-7618c62fba8d"
      },
      "outputs": [],
      "source": [
        "# check if the GPU is working properly\n",
        "!nvidia-smi\n",
        "%rm -rf ./sample_data"
      ]
    },
    {
      "cell_type": "code",
      "execution_count": null,
      "metadata": {
        "colab": {
          "base_uri": "https://localhost:8080/"
        },
        "id": "2i64M4J0yvKM",
        "outputId": "fd1d51d9-cfe4-4c7a-e1ca-f6a8a9eb7781"
      },
      "outputs": [],
      "source": [
        "# Installing dependencies\n",
        "%pip install numba -q\n",
        "%pip install engineering-notation -q\n",
        "%pip install opencv-contrib-python -q\n",
        "%pip install argcomplete -q\n",
        "%pip install dv-processing -q\n",
        "%pip install GPUtil"
      ]
    },
    {
      "cell_type": "code",
      "execution_count": null,
      "metadata": {
        "colab": {
          "base_uri": "https://localhost:8080/"
        },
        "id": "HBQcrxkczNKS",
        "outputId": "66826c6c-80e2-413d-d89b-e3ae3deda1b4"
      },
      "outputs": [],
      "source": [
        "# Clone SensorsINI/v2e into colab\n",
        "!git clone https://github.com/SensorsINI/v2e"
      ]
    },
    {
      "cell_type": "code",
      "execution_count": null,
      "metadata": {
        "colab": {
          "base_uri": "https://localhost:8080/"
        },
        "id": "GdIBdsq-zQKh",
        "outputId": "bd0d4a01-a964-4ca1-966b-c38b36850d8f"
      },
      "outputs": [],
      "source": [
        "# install v2e\n",
        "%cd /content/v2e\n",
        "%pip install ."
      ]
    },
    {
      "cell_type": "code",
      "execution_count": null,
      "metadata": {
        "colab": {
          "base_uri": "https://localhost:8080/"
        },
        "id": "Ctz0It643gQ9",
        "outputId": "17c53e2f-1fc5-48fb-dc9d-e11b83ff367d"
      },
      "outputs": [],
      "source": [
        "# mount with goole drive\n",
        "from google.colab import drive\n",
        "drive.mount('/content/drive')"
      ]
    },
    {
      "cell_type": "code",
      "execution_count": null,
      "metadata": {
        "colab": {
          "base_uri": "https://localhost:8080/"
        },
        "id": "tlPeu75L5T0w",
        "outputId": "2a82287a-69cc-4d6c-8f27-0f68e4001fd3"
      },
      "outputs": [],
      "source": [
        "import os\n",
        "import multiprocessing\n",
        "import subprocess\n",
        "import GPUtil\n",
        "import torch\n",
        "\n",
        "# File paths\n",
        "names_file_path = \"/content/stop2.txt\"\n",
        "input_dir = \"/content/drive/MyDrive/V2E/31-6623\"\n",
        "output_dir = \"/content/drive/MyDrive/V2E/output\"\n",
        "\n",
        "def init_gpu():\n",
        "    \"\"\"Initialize GPU for PyTorch or TensorFlow usage.\"\"\"\n",
        "    if torch.cuda.is_available():\n",
        "        device = torch.device(\"cuda\")\n",
        "        print(f\"\\nUsing GPU: {torch.cuda.get_device_name(0)}\")\n",
        "    else:\n",
        "        device = torch.device(\"cpu\")\n",
        "        print(\"\\nUsing CPU\")\n",
        "    return device\n",
        "\n",
        "def process_image_sequence(name):\n",
        "    \"\"\"Process the image sequence and generate event data using v2e.\"\"\"\n",
        "    name = name.strip()\n",
        "    path = os.path.join(input_dir, name)\n",
        "    output_folder = os.path.join(output_dir, name)\n",
        "\n",
        "    # v2e command options\n",
        "    overwrite = True\n",
        "    unique_output_folder = True\n",
        "    out_filename = \"events.h5\"\n",
        "    davis_output = True\n",
        "\n",
        "    skip_video_output = False\n",
        "    dvs_exposure = \"duration .033\"\n",
        "    output_mode = \"dvs128\"\n",
        "\n",
        "    input_frame_rate = 12\n",
        "    input_slowmotion_factor = 1\n",
        "\n",
        "    timestamp_resolution = 0.001\n",
        "    auto_timestamp_resolution = True\n",
        "\n",
        "    # Event thresholds and noise settings\n",
        "    condition = \"Clean\"\n",
        "    thres, sigma, cutoff_hz, leak_rate_hz, shot_noise_rate_hz = (0.2, 0.03, 200, 5.18, 2.716)\n",
        "\n",
        "    if condition == \"Clean\":\n",
        "        thres, sigma, cutoff_hz, leak_rate_hz, shot_noise_rate_hz = (0.2, 0.02, 0, 0, 0)\n",
        "\n",
        "    # Build the v2e command\n",
        "    v2e_command = [\n",
        "        \"v2e\", \"-i\", path, \"-o\", output_folder,\n",
        "        \"--overwrite\" if overwrite else \"\",\n",
        "        \"--unique_output_folder\", str(unique_output_folder).lower(),\n",
        "        \"--dvs_h5\", out_filename,\n",
        "        \"--davis_output\" if davis_output else \"\",\n",
        "        \"--no_preview\",\n",
        "        \"--skip_video_output\" if skip_video_output else f\"--dvs_exposure {dvs_exposure}\",\n",
        "        \"--input_frame_rate\", str(input_frame_rate),\n",
        "        \"--input_slowmotion_factor\", str(input_slowmotion_factor),\n",
        "        \"--disable_slomo\",\n",
        "        \"--auto_timestamp_resolution\", \"true\" if auto_timestamp_resolution else \"false\",\n",
        "        \"--pos_thres\", str(thres),\n",
        "        \"--neg_thres\", str(thres),\n",
        "        \"--sigma_thres\", str(sigma),\n",
        "        \"--cutoff_hz\", str(cutoff_hz),\n",
        "        \"--leak_rate_hz\", str(leak_rate_hz),\n",
        "        \"--shot_noise_rate_hz\", str(shot_noise_rate_hz),\n",
        "        f\"--{output_mode}\"\n",
        "    ]\n",
        "\n",
        "    # Remove empty string arguments\n",
        "    v2e_command = list(filter(None, v2e_command))\n",
        "\n",
        "    # Run the command\n",
        "    try:\n",
        "        result = subprocess.run(\" \".join(v2e_command), shell=True, check=True, stdout=subprocess.PIPE, stderr=subprocess.PIPE)\n",
        "        print(f\"Success: {name}\\nOutput:\\n{result.stdout.decode()}\")\n",
        "    except subprocess.CalledProcessError as e:\n",
        "        print(f\"Error processing {name}:\\n{e.stderr.decode()}\")\n",
        "\n",
        "def process_image_sequence_in_colab(name):\n",
        "    \"\"\"Process video with GPU management in Google Colab.\"\"\"\n",
        "    # Ensure GPU is available and select it\n",
        "    gpu_id = GPUtil.getFirstAvailable()[0]\n",
        "    os.environ[\"CUDA_VISIBLE_DEVICES\"] = str(gpu_id)\n",
        "    init_gpu()  # Initialize GPU (useful for other tasks)\n",
        "\n",
        "    process_image_sequence(name)\n",
        "\n",
        "# Read names from the file\n",
        "with open(names_file_path, \"r\") as file:\n",
        "    names = file.readlines()\n",
        "\n",
        "if __name__ == \"__main__\":\n",
        "    # Limit parallelism to 4-8 processes to avoid GPU contention\n",
        "    num_cpus = 8\n",
        "\n",
        "    with multiprocessing.Pool(num_cpus) as pool:\n",
        "        pool.map(process_image_sequence_in_colab, names)\n"
      ]
    }
  ],
  "metadata": {
    "accelerator": "GPU",
    "colab": {
      "gpuType": "T4",
      "provenance": []
    },
    "kernelspec": {
      "display_name": "Python 3",
      "name": "python3"
    },
    "language_info": {
      "codemirror_mode": {
        "name": "ipython",
        "version": 3
      },
      "file_extension": ".py",
      "mimetype": "text/x-python",
      "name": "python",
      "nbconvert_exporter": "python",
      "pygments_lexer": "ipython3",
      "version": "3.12.4"
    }
  },
  "nbformat": 4,
  "nbformat_minor": 0
}
